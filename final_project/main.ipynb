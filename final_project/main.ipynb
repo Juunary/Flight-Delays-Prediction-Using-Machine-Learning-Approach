{
 "cells": [
  {
   "cell_type": "markdown",
   "metadata": {},
   "source": [
    "# **Logistic Regression for Flight Delay Prediction**\n",
    "\n",
    "## **Setup and Preprocessing**\n",
    "\n",
    "# Import necessary libraries"
   ]
  },
  {
   "cell_type": "code",
   "execution_count": 1,
   "metadata": {},
   "outputs": [],
   "source": [
    "import pandas as pd\n",
    "import numpy as np\n",
    "from sklearn.model_selection import train_test_split\n",
    "from sklearn.linear_model import LogisticRegression\n",
    "from sklearn.metrics import accuracy_score, classification_report"
   ]
  },
  {
   "cell_type": "markdown",
   "metadata": {},
   "source": [
    "# Load the data"
   ]
  },
  {
   "cell_type": "code",
   "execution_count": 2,
   "metadata": {},
   "outputs": [],
   "source": [
    "data_path = 'flight_data_new.csv'\n",
    "data = pd.read_csv(data_path)"
   ]
  },
  {
   "cell_type": "markdown",
   "metadata": {},
   "source": [
    "# Define the features and target variable"
   ]
  },
  {
   "cell_type": "code",
   "execution_count": 3,
   "metadata": {},
   "outputs": [],
   "source": [
    "X = data[['DEP_DELAY', 'TAXI_OUT', 'TAXI_IN', 'ACTUAL_ELAPSED_TIME', 'DISTANCE', 'WHEELS_OFF_elapse', 'WHEELS_ON_elapse', 'OP_CARRIER_Delta_Airlines', 'MONTH_Nov']]\n",
    "y = data['FLIGHT_STATUS']  # Assuming FLIGHT_STATUS is the target (0 or 1)"
   ]
  },
  {
   "cell_type": "markdown",
   "metadata": {},
   "source": [
    "# Split the data into training and testing sets"
   ]
  },
  {
   "cell_type": "code",
   "execution_count": 4,
   "metadata": {},
   "outputs": [],
   "source": [
    "X_train, X_test, y_train, y_test = train_test_split(X, y, test_size=0.2, random_state=42)"
   ]
  },
  {
   "cell_type": "markdown",
   "metadata": {},
   "source": [
    "## **Model Training and Prediction**\n",
    "\n",
    "# Initialize and train the logistic regression model"
   ]
  },
  {
   "cell_type": "code",
   "execution_count": null,
   "metadata": {},
   "outputs": [],
   "source": [
    "model = LogisticRegression()\n",
    "model.fit(X_train, y_train)"
   ]
  },
  {
   "cell_type": "markdown",
   "metadata": {},
   "source": [
    "# Make predictions on the test set"
   ]
  },
  {
   "cell_type": "code",
   "execution_count": 6,
   "metadata": {},
   "outputs": [],
   "source": [
    "y_pred = model.predict(X_test)"
   ]
  },
  {
   "cell_type": "markdown",
   "metadata": {},
   "source": [
    "## **Evaluation**\n",
    "\n",
    "# Evaluate the model"
   ]
  },
  {
   "cell_type": "code",
   "execution_count": 7,
   "metadata": {},
   "outputs": [],
   "source": [
    "accuracy = accuracy_score(y_test, y_pred)\n",
    "report = classification_report(y_test, y_pred)"
   ]
  },
  {
   "cell_type": "markdown",
   "metadata": {},
   "source": [
    "# Output the results"
   ]
  },
  {
   "cell_type": "code",
   "execution_count": null,
   "metadata": {},
   "outputs": [],
   "source": [
    "print(f\"Accuracy: {accuracy:.2f}\")\n",
    "print(\"\\nClassification Report:\\n\")\n",
    "print(report)"
   ]
  },
  {
   "cell_type": "markdown",
   "metadata": {},
   "source": [
    "## **Delay Probabilities**\n",
    "\n",
    "# Calculate and display delay probabilities"
   ]
  },
  {
   "cell_type": "code",
   "execution_count": null,
   "metadata": {},
   "outputs": [],
   "source": [
    "delay_probabilities = model.predict_proba(X_test)[:, 1]\n",
    "print(\"\\nDelay Probabilities:\\n\", delay_probabilities)"
   ]
  },
  {
   "cell_type": "code",
   "execution_count": null,
   "metadata": {},
   "outputs": [],
   "source": [
    "import pandas as pd\n",
    "from sortedcontainers import SortedDict\n",
    "\n",
    "# data load\n",
    "data_path = 'flight_data_new.csv'  # CSV file path\n",
    "try:\n",
    "    data = pd.read_csv(data_path)\n",
    "except FileNotFoundError:\n",
    "    print(f\"File not found: {data_path}\")\n",
    "    exit()\n",
    "\n",
    "# BalancedBST class definition\n",
    "class BalancedBST:\n",
    "    def __init__(self):\n",
    "        self.tree = SortedDict()\n",
    "\n",
    "    def insert(self, key, data):\n",
    "        if key in self.tree:\n",
    "            self.tree[key].append(data)\n",
    "        else:\n",
    "            self.tree[key] = [data]\n",
    "\n",
    "    def range_query(self, low, high):\n",
    "        results = []\n",
    "        for key in self.tree.irange(low, high):\n",
    "            results.extend(self.tree[key])\n",
    "        return results\n",
    "\n",
    "# BalancedBST instance generation\n",
    "bst = BalancedBST()\n",
    "\n",
    "# code to map airline names to numbers\n",
    "airlines = {\n",
    "    1: 'OP_CARRIER_American_Airlines',\n",
    "    2: 'OP_CARRIER_Delta_Airlines',\n",
    "    3: 'OP_CARRIER_Alaska_Airlines',\n",
    "    4: 'OP_CARRIER_Southwest _irlines',\n",
    "    5: 'OP_CARRIER_United_Airlines',\n",
    "    # add more airlines as needed\n",
    "}\n",
    "\n",
    "# Insert DEP_DELAY data into the tree (using delay time as the key and data row as the value)\n",
    "for _, row in data.iterrows():\n",
    "    bst.insert(row['DEP_DELAY'], row)\n",
    "\n",
    "# print available airlines\n",
    "print(\"Available airlines and their corresponding numbers:\")\n",
    "for code, name in airlines.items():\n",
    "    print(f\"{code}: {name.replace('OP_CARRIER_', '').replace('_', ' ')}\")\n",
    "\n",
    "# choose an airline\n",
    "try:\n",
    "    airline_choice = int(input(\"\\nEnter the number corresponding to the airline: \"))\n",
    "    selected_airline = airlines.get(airline_choice)\n",
    "    if not selected_airline:\n",
    "        raise KeyError\n",
    "    print(f\"You selected airline number {airline_choice}: {selected_airline.replace('OP_CARRIER_', '').replace('_', ' ')}\")\n",
    "except (ValueError, KeyError):\n",
    "    print(\"Invalid input! Please enter a valid airline number.\")\n",
    "    exit()\n",
    "\n",
    "# choose delay range\n",
    "try:\n",
    "    low_delay = int(input(\"Enter the minimum delay time (DEP_DELAY): \"))\n",
    "    high_delay = int(input(\"Enter the maximum delay time (DEP_DELAY): \"))\n",
    "    print(f\"You selected a delay range between {low_delay} and {high_delay} minutes.\")\n",
    "except ValueError:\n",
    "    print(\"Invalid input! Please enter numeric values.\")\n",
    "    exit()\n",
    "\n",
    "# Range search and result filtering\n",
    "if selected_airline:\n",
    "    # search for data within the specified delay range\n",
    "    results = bst.range_query(low_delay, high_delay)\n",
    "\n",
    "    # data filtering based on the selected airline\n",
    "    filtered_results = [\n",
    "        result for result in results if result[selected_airline] == 1\n",
    "    ]\n",
    "\n",
    "    # print filtered data\n",
    "    if filtered_results:\n",
    "        print(f\"\\nFiltered data for {selected_airline.replace('OP_CARRIER_', '').replace('_', ' ')} with delay range {low_delay}-{high_delay} minutes:\")\n",
    "        for flight in filtered_results[:5]:  # 상위 5개 출력\n",
    "            print({\n",
    "                'TAXI_OUT': flight['TAXI_OUT'],\n",
    "                'TAXI_IN': flight['TAXI_IN'],\n",
    "                'ACTUAL_ELAPSED_TIME': flight['ACTUAL_ELAPSED_TIME'],\n",
    "                'DISTANCE': flight['DISTANCE'],\n",
    "                'WHEELS_OFF_elapse': flight['WHEELS_OFF_elapse'],\n",
    "                'WHEELS_ON_elapse': flight['WHEELS_ON_elapse']\n",
    "            })\n",
    "    else:\n",
    "        print(\"No data found for the selected criteria.\")\n",
    "else:\n",
    "    print(\"Invalid airline selection. Please try again.\")\n"
   ]
  }
 ],
 "metadata": {
  "kernelspec": {
   "display_name": "base",
   "language": "python",
   "name": "python3"
  },
  "language_info": {
   "codemirror_mode": {
    "name": "ipython",
    "version": 3
   },
   "file_extension": ".py",
   "mimetype": "text/x-python",
   "name": "python",
   "nbconvert_exporter": "python",
   "pygments_lexer": "ipython3",
   "version": "3.12.4"
  }
 },
 "nbformat": 4,
 "nbformat_minor": 2
}
